{
 "cells": [
  {
   "cell_type": "code",
   "execution_count": 12,
   "id": "4c8d0174",
   "metadata": {},
   "outputs": [],
   "source": [
    "import gym\n",
    "import numpy as np"
   ]
  },
  {
   "cell_type": "code",
   "execution_count": 73,
   "id": "e0089890",
   "metadata": {},
   "outputs": [
    {
     "name": "stdout",
     "output_type": "stream",
     "text": [
      "Box(-8.0, 8.0, (3,), float32)\n",
      "Box(-2.0, 2.0, (1,), float32)\n"
     ]
    },
    {
     "data": {
      "text/plain": [
       "gym.spaces.box.Box"
      ]
     },
     "execution_count": 73,
     "metadata": {},
     "output_type": "execute_result"
    }
   ],
   "source": [
    "env_name = \"CartPole-v0\"\n",
    "env_name = \"MountainCar-v0\"\n",
    "env_name = \"MountainCarContinuous-v0\"\n",
    "env_name = \"Acrobot-v1\"\n",
    "env_name = \"Pendulum-v0\"\n",
    "env = gym.make(env_name)\n",
    "print(env.observation_space)\n",
    "print(env.action_space)\n",
    "type(env.action_space)"
   ]
  },
  {
   "cell_type": "code",
   "execution_count": 74,
   "id": "23a8a8fd",
   "metadata": {},
   "outputs": [],
   "source": [
    "class Agent():\n",
    "    def __init__(self, env):\n",
    "        if(type(env.action_space) == gym.spaces.discrete.Discrete):\n",
    "            self.discrete = 1\n",
    "        else:\n",
    "            self.discrete = 0\n",
    "        if(self.discrete):\n",
    "            self.action_space = env.action_space.n\n",
    "        else:\n",
    "            self.action_high = env.action_space.high\n",
    "            self.action_low = env.action_space.low\n",
    "    def get_action(self, state):\n",
    "        if(self.discrete):\n",
    "            action = np.random.randint(0,self.action_space)\n",
    "            #if(state[2]<0):\n",
    "            #    action = 0\n",
    "            #else:\n",
    "            #    action = 1\n",
    "        else:    \n",
    "            action = np.random.uniform(low=self.action_low, high=self.action_high)\n",
    "        return action"
   ]
  },
  {
   "cell_type": "code",
   "execution_count": 75,
   "id": "894c56f7",
   "metadata": {},
   "outputs": [],
   "source": [
    "agent = Agent(env)\n",
    "state = env.reset()\n",
    "for ep in range(250):\n",
    "    action = agent.get_action(state)\n",
    "    state, reward, done, info = env.step(action)\n",
    "    env.render()\n",
    "env.close()    "
   ]
  },
  {
   "cell_type": "code",
   "execution_count": null,
   "id": "7dc24a5c",
   "metadata": {},
   "outputs": [],
   "source": []
  },
  {
   "cell_type": "code",
   "execution_count": null,
   "id": "c66ce356",
   "metadata": {},
   "outputs": [],
   "source": []
  }
 ],
 "metadata": {
  "kernelspec": {
   "display_name": "Python 3",
   "language": "python",
   "name": "python3"
  },
  "language_info": {
   "codemirror_mode": {
    "name": "ipython",
    "version": 3
   },
   "file_extension": ".py",
   "mimetype": "text/x-python",
   "name": "python",
   "nbconvert_exporter": "python",
   "pygments_lexer": "ipython3",
   "version": "3.8.8"
  }
 },
 "nbformat": 4,
 "nbformat_minor": 5
}
