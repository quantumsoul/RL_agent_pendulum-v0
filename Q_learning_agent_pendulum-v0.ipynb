{
 "cells": [
  {
   "cell_type": "code",
   "execution_count": 15,
   "id": "2c953eab",
   "metadata": {},
   "outputs": [],
   "source": [
    "import gym\n",
    "import random\n",
    "import numpy as np\n",
    "import time\n",
    "import matplotlib.pyplot as plt\n",
    "from IPython.display import clear_output"
   ]
  },
  {
   "cell_type": "code",
   "execution_count": 16,
   "id": "00a36783",
   "metadata": {},
   "outputs": [
    {
     "name": "stdout",
     "output_type": "stream",
     "text": [
      "Box(-8.0, 8.0, (3,), float32)\n",
      "Box(-2.0, 2.0, (1,), float32)\n"
     ]
    },
    {
     "data": {
      "text/plain": [
       "gym.spaces.box.Box"
      ]
     },
     "execution_count": 16,
     "metadata": {},
     "output_type": "execute_result"
    }
   ],
   "source": [
    "env_name = \"Pendulum-v0\"\n",
    "env = gym.make(env_name)\n",
    "print(env.observation_space)\n",
    "print(env.action_space)\n",
    "type(env.action_space)"
   ]
  },
  {
   "cell_type": "code",
   "execution_count": 61,
   "id": "dc7449bc",
   "metadata": {},
   "outputs": [],
   "source": [
    "discrete_os_size = (13, 11, 12)\n",
    "discrete_os_win_size = (env.observation_space.high - env.observation_space.low)/discrete_os_size\n",
    "discrete_os_win_size\n",
    "discrete_os_nsize = (14, 12, 13)"
   ]
  },
  {
   "cell_type": "code",
   "execution_count": 93,
   "id": "9732fc02",
   "metadata": {},
   "outputs": [
    {
     "data": {
      "text/plain": [
       "array([2.], dtype=float32)"
      ]
     },
     "execution_count": 93,
     "metadata": {},
     "output_type": "execute_result"
    }
   ],
   "source": [
    "discrete_action_size = (2)\n",
    "discrete_action_win_size = (env.action_space.high - env.action_space.low)/discrete_action_size\n",
    "discrete_action_win_size"
   ]
  },
  {
   "cell_type": "code",
   "execution_count": 94,
   "id": "8ec4aeb3",
   "metadata": {},
   "outputs": [
    {
     "data": {
      "text/plain": [
       "(14, 12, 13, 2)"
      ]
     },
     "execution_count": 94,
     "metadata": {},
     "output_type": "execute_result"
    }
   ],
   "source": [
    "q_table = np.zeros(discrete_os_nsize + (discrete_action_size,))\n",
    "q_table.shape"
   ]
  },
  {
   "cell_type": "code",
   "execution_count": 88,
   "id": "8054d9f4",
   "metadata": {},
   "outputs": [],
   "source": [
    "def get_discrete_state(state):\n",
    "    discrete_state = (state - env.observation_space.low)/discrete_os_win_size\n",
    "    return tuple(discrete_state.astype(int))"
   ]
  },
  {
   "cell_type": "code",
   "execution_count": 95,
   "id": "84a4eb2d",
   "metadata": {},
   "outputs": [],
   "source": [
    "class QAgent():\n",
    "    def __init__(self, env):\n",
    "        self.action_low = env.action_space.low\n",
    "        self.action_high = env.action_space.high\n",
    "        self.eps = 0.01\n",
    "        self.discount = 0.91\n",
    "        self.lr = 0.06\n",
    "    def get_action(self, state, env):\n",
    "        d_state = get_discrete_state(state)\n",
    "        action = [-2.0 + (np.argmax(q_table[d_state]))*4.0]                         \n",
    "        if(random.random() < self.eps):\n",
    "            return env.action_space.sample()\n",
    "        else:\n",
    "            return action             \n",
    "    def train(self, state, action, next_state, reward, done):\n",
    "        d_state = get_discrete_state(state)\n",
    "        next_d_state = get_discrete_state(next_state)\n",
    "        if(done==True):\n",
    "            future_q = np.zeros(discrete_action_size)\n",
    "        else:    \n",
    "            future_q = q_table[next_d_state]\n",
    "        current_q = q_table[d_state + (np.argmax(q_table[d_state]),)]\n",
    "        target_q = reward + self.discount*np.max(future_q)\n",
    "        update = target_q - current_q\n",
    "        q_table[d_state + (np.argmax(q_table[d_state]),)] += self.lr*update\n",
    "        if(done==True):\n",
    "            self.eps = self.eps*0.98"
   ]
  },
  {
   "cell_type": "code",
   "execution_count": 98,
   "id": "b09c3da2",
   "metadata": {},
   "outputs": [],
   "source": [
    "agent = QAgent(env)\n",
    "t_reward = 0\n",
    "info = 0\n",
    "aggr_rewards = {'avg': []}\n",
    "for ep in range(1000):\n",
    "    ep_len = 0\n",
    "    avg_reward = 0\n",
    "    state = env.reset()\n",
    "    done = False\n",
    "    while not done:\n",
    "        ep_len += 1\n",
    "        action = agent.get_action(state, env)\n",
    "        next_state, reward, done, info = env.step(action)\n",
    "        agent.train(state, action, next_state, reward, done)\n",
    "        state = next_state\n",
    "        t_reward += reward\n",
    "        avg_reward += reward \n",
    "        env.render()\n",
    "        #clear_output(wait=True)\n",
    "    aggr_rewards['avg'].append(avg_reward/ep_len)   \n",
    "env.close() "
   ]
  },
  {
   "cell_type": "code",
   "execution_count": 99,
   "id": "ad636c1f",
   "metadata": {},
   "outputs": [
    {
     "data": {
      "text/plain": [
       "[<matplotlib.lines.Line2D at 0x2934ab73970>]"
      ]
     },
     "execution_count": 99,
     "metadata": {},
     "output_type": "execute_result"
    },
    {
     "data": {
      "image/png": "[encoded data removed]",
      "text/plain": [
       "<Figure size 432x288 with 1 Axes>"
      ]
     },
     "metadata": {
      "needs_background": "light"
     },
     "output_type": "display_data"
    }
   ],
   "source": [
    "plt.plot(aggr_rewards['avg'])"
   ]
  },
  {
   "cell_type": "code",
   "execution_count": null,
   "id": "2ce805d8",
   "metadata": {},
   "outputs": [],
   "source": []
  },
  {
   "cell_type": "code",
   "execution_count": null,
   "id": "df241307",
   "metadata": {},
   "outputs": [],
   "source": []
  },
  {
   "cell_type": "code",
   "execution_count": null,
   "id": "45fa8535",
   "metadata": {},
   "outputs": [],
   "source": []
  }
 ],
 "metadata": {
  "kernelspec": {
   "display_name": "Python 3",
   "language": "python",
   "name": "python3"
  },
  "language_info": {
   "codemirror_mode": {
    "name": "ipython",
    "version": 3
   },
   "file_extension": ".py",
   "mimetype": "text/x-python",
   "name": "python",
   "nbconvert_exporter": "python",
   "pygments_lexer": "ipython3",
   "version": "3.8.8"
  }
 },
 "nbformat": 4,
 "nbformat_minor": 5
}
